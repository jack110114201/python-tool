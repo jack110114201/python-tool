{
 "cells": [
  {
   "cell_type": "markdown",
   "id": "f3067972",
   "metadata": {},
   "source": [
    "## From https://python.plainenglish.io/10-killer-automation-scripts-for-your-python-projects-61284d265844"
   ]
  },
  {
   "cell_type": "markdown",
   "id": "12c9d32f",
   "metadata": {},
   "source": [
    "### Photo Compressor\n",
    "- This is an awesome Automation Script that will Compress your Photos into lower Sizes by keeping the Quality the same."
   ]
  },
  {
   "cell_type": "code",
   "execution_count": null,
   "id": "522246e6",
   "metadata": {},
   "outputs": [],
   "source": [
    "import PIL\n",
    "from tkinter.filedialog import *\n",
    "from PIL import Image\n",
    "file_loc=askopenfilenames()\n",
    "img = Image.open(file_loc[0])\n",
    "img.save(\"Compressed.jpg\", \"JPEG\", optimize = True, quality = 10)\n",
    "print(\"Image is Compressed\")"
   ]
  },
  {
   "cell_type": "markdown",
   "id": "dfae2a26",
   "metadata": {},
   "source": [
    "### Image Watermarker\n",
    "- You had Probbally used different Photo Editing software to watermark your photos. This simple python script using the PIL module will watermark any image. You can set the Text, location, and even Font."
   ]
  },
  {
   "cell_type": "code",
   "execution_count": null,
   "id": "b53f2d66",
   "metadata": {},
   "outputs": [],
   "source": [
    "from PIL import Image\n",
    "from PIL import ImageFont\n",
    "from PIL import ImageDraw\n",
    "def watermark_Image(img_path,output_path, text, pos):\n",
    "    img = Image.open(img_path)\n",
    "    drawing = ImageDraw.Draw(img)\n",
    "    black = (10, 5, 12)\n",
    "    drawing.text(pos, text, fill=black)\n",
    "    img.show()\n",
    "    img.save(output_path)\n",
    "img = '1.jpg'\n",
    "watermark_Image(img, 'watermarked.jpg','Python', pos=(0, 0))"
   ]
  },
  {
   "cell_type": "markdown",
   "id": "fef5858a",
   "metadata": {},
   "source": [
    "### InstaDpViewer\n",
    "- This Python automation script will help you to view the DP of any Instagram User. Script use module instaloader which will take username as input and download the DP as an output."
   ]
  },
  {
   "cell_type": "code",
   "execution_count": null,
   "id": "df8fa853",
   "metadata": {},
   "outputs": [],
   "source": [
    "#pip install instaloader\n",
    "import instaloader\n",
    " \n",
    "ig = instaloader.Instaloader()\n",
    "DP = input(\"Enter Insta username : \")\n",
    " \n",
    "ig.download_profile(dp , profile_pic_only=True)\n",
    "print(\"Your Image is Downloaded\")"
   ]
  },
  {
   "cell_type": "markdown",
   "id": "b7578eb5",
   "metadata": {},
   "source": [
    "### Plagiarism Checker\n",
    "- This is an awesome script that will help you to check the Plagiarism between two files. Now you don’t longer need any software or a web app for Plagiarism checking. This will do your work in a second."
   ]
  },
  {
   "cell_type": "code",
   "execution_count": null,
   "id": "c3db9a7a",
   "metadata": {},
   "outputs": [],
   "source": [
    "from difflib import SequenceMatcher\n",
    "def Plagerism_checker(f1, f2):\n",
    "    with open(f1,errors=\"ignore\") as file1,open(f2,errors=\"ignore\") as file2:\n",
    "        f1_data=file1.read()\n",
    "        f2_data=file2.read()\n",
    "        checking=SequenceMatcher(None, f1_data, f2_data).ratio()\n",
    "print(f\"These files are {checking*100} % similar\")\n",
    "file_1=input(\"Enter file 1 path: \")\n",
    "file_2=input(\"Enter file 2 path: \")\n",
    "Plagerism_checker(file_1, file_2)"
   ]
  },
  {
   "cell_type": "markdown",
   "id": "98798990",
   "metadata": {},
   "source": [
    "### YT Video Downloader\n",
    "- This is another simple automation script to download Youtube videos. Now you don’t need any web app or software, just use the below code to download any video."
   ]
  },
  {
   "cell_type": "code",
   "execution_count": null,
   "id": "60b45694",
   "metadata": {},
   "outputs": [],
   "source": [
    "# pip install pytube\n",
    "import pytube\n",
    "link = input('Enter Youtube Video URL')\n",
    "yt = pytube.Youtube(link)\n",
    "yt.streams.first().download()\n",
    "print('downloaded', link)"
   ]
  },
  {
   "cell_type": "markdown",
   "id": "701b8d9d",
   "metadata": {},
   "source": [
    "### Convert PDF to CSV\n",
    "- Sometimes we need to convert our PDF data into CSV format, So for that kind of work, this Python script will be handy for you. I had mentioned the two methods to do this work."
   ]
  },
  {
   "cell_type": "code",
   "execution_count": null,
   "id": "bfc1ae49",
   "metadata": {},
   "outputs": [],
   "source": [
    "import tabula\n",
    "import camelot\n",
    "# Method 1\n",
    "filename = input(\"Enter File Path: \")\n",
    "df = tabula.read_pdf(filename, encoding='utf-8', spreadsheet=True, pages='1')\n",
    "df.to_csv('output.csv')\n",
    "# Method 2\n",
    "tables = camelot.read_pdf('file.pdf')\n",
    "tables.export('file.csv', f='csv', compress=True)"
   ]
  },
  {
   "cell_type": "markdown",
   "id": "b92c616e",
   "metadata": {},
   "source": [
    "### File Encrypt and Decrypt\n",
    "- Want to lock your File then this script will be handy for you. Below I mention Encryption and decryption code that can work on any file."
   ]
  },
  {
   "cell_type": "code",
   "execution_count": null,
   "id": "84797d9d",
   "metadata": {},
   "outputs": [],
   "source": [
    "# pip install cryptography\n",
    "from cryptography.fernet import Fernet\n",
    "def encrypt(filename, key):\n",
    "    fernet = Fernet(key)\n",
    "    \n",
    "    with open(filename, 'rb') as file:\n",
    "        original = file.read()\n",
    "        \n",
    "    encrypted = fernet.encrypt(original)\n",
    "    \n",
    "    with open(filename, 'wb') as enc_file:\n",
    "        enc_file.write(encrypted)\n",
    "def decrypt(filename, key):\n",
    "    fernet = Fernet(key)\n",
    "    \n",
    "    with open(filename, 'rb') as enc_file:\n",
    "        encrypted = enc_file.read()\n",
    "decrypted = fernet.decrypt(encrypted)\n",
    "    with open(filename, 'wb') as dec_file:\n",
    "        dec_file.write(decrypted)\n",
    "# Generate Key\n",
    "key = Fernet.generate_key()\n",
    "filename = input(\"Enter Your filename: \")\n",
    "encrypt(filename, key)\n",
    "decrypt(filename, key)"
   ]
  },
  {
   "cell_type": "markdown",
   "id": "8e1d707f",
   "metadata": {},
   "source": [
    "### Battery Notification\n",
    "- You had seen a battery notification on your Mobile Phone. So what if your Laptop also notifies you about your Battery status. This Python Script will do the exact same work by using 3 modules it can be Battery Notifier. Check out the code below."
   ]
  },
  {
   "cell_type": "code",
   "execution_count": null,
   "id": "ddf0e501",
   "metadata": {},
   "outputs": [],
   "source": [
    "pip install win10toast\n",
    "pip install pywin32\n",
    "pip install pyttsx3\n",
    "import psutil\n",
    "import time\n",
    "import pyttsx3\n",
    "import threading\n",
    "from win10toast import ToastNotifier\n",
    "bot=pyttsx3.init()\n",
    "bot.setProperty('rate',110)\n",
    "bot.setProperty('volume',3)\n",
    "toaster = ToastNotifier()\n",
    "def display_notification(text):\n",
    "    toaster.show_toast(text, duration=8)\n",
    "    while toaster.notification_active():\n",
    "        time.sleep(0.003)\n",
    "def Battery_Notification():\n",
    "    while (True):\n",
    "        time.sleep(2)\n",
    "        battery = psutil.sensors_battery()\n",
    "        plugged = battery.power_plugged\n",
    "        percent = int(battery.percent)\n",
    "if percent < 15:\n",
    "         if plugged == False:\n",
    "            processThread = threading.Thread(target=display_notification, args=(\"Your Battery at \"+str(percent)+\"% Please Plug the charger\",))\n",
    "            processThread.start()\n",
    "            bot.say(\"Your battery is getting low so plug your charger\")\n",
    "            bot.runAndWait()\n",
    "elif percent >= 99:\n",
    "         if plugged == True:\n",
    "            processThread = threading.Thread(target=display_notification, args=(\"Charging is getting complete\",))\n",
    "            processThread.start()\n",
    "            bot.say(\"Charging is Completed\")\n",
    "            bot.runAndWait()\n",
    "Battery_Notification()\n",
    "elif percent >= 99:\n",
    "         if plugged == True:\n",
    "            processThread = threading.Thread(target=display_notification, args=(\"Charging is getting complete\",))\n",
    "            processThread.start()\n",
    "            bot.say(\"Charging is Completed\")\n",
    "            bot.runAndWait()"
   ]
  },
  {
   "cell_type": "markdown",
   "id": "3e7c586f",
   "metadata": {},
   "source": [
    "### Convert Images to PDF\n",
    "- If you had a lot of images and looking for converting them into a single Pdf then this automation script will be handy for you."
   ]
  },
  {
   "cell_type": "code",
   "execution_count": null,
   "id": "33275b56",
   "metadata": {},
   "outputs": [],
   "source": [
    "import os\n",
    "import img2pdf\n",
    "#Method 1\n",
    "with open(\"Output.pdf\", \"wb\") as file:\n",
    "    file.write(img2pdf.convert([i for i in os.listdir('Path of image_Directory') if i.endswith(\".jpg\")]))\n",
    "#Method 2\n",
    "from fpdf import FPDF\n",
    "Pdf = FPDF()\n",
    "list_of_images = [\"1.jpg\", \"2.jpg\"]\n",
    "for i in list_of_images: # list of images with filename\n",
    "    Pdf.add_page()\n",
    "    Pdf.image(i,x,y,w,h)\n",
    "Pdf.output(\"yourfile.pdf\", \"F\")"
   ]
  },
  {
   "cell_type": "markdown",
   "id": "592992f2",
   "metadata": {},
   "source": [
    "### Text to Speech AI Bot\n",
    "- If you had known about the Jarvis AI then this script will work similarly. It uses google Text to Speech API to convert your written Text to AI bot voice. checkout the code below."
   ]
  },
  {
   "cell_type": "code",
   "execution_count": null,
   "id": "b11a15b6",
   "metadata": {},
   "outputs": [],
   "source": [
    "# pip install gTTS\n",
    "from pygame import mixer\n",
    "from gtts import gTTS\n",
    "def main():\n",
    "    tts = gTTS('Learn Python from Medium')\n",
    "    tts.save('python.mp3')\n",
    "    mixer.init()\n",
    "    mixer.music.load('python.mp3')\n",
    "    mixer.music.play()\n",
    "if __name__ == \"__main__\":\n",
    "    main()"
   ]
  }
 ],
 "metadata": {
  "kernelspec": {
   "display_name": "Python 3 (ipykernel)",
   "language": "python",
   "name": "python3"
  },
  "language_info": {
   "codemirror_mode": {
    "name": "ipython",
    "version": 3
   },
   "file_extension": ".py",
   "mimetype": "text/x-python",
   "name": "python",
   "nbconvert_exporter": "python",
   "pygments_lexer": "ipython3",
   "version": "3.8.10"
  }
 },
 "nbformat": 4,
 "nbformat_minor": 5
}
